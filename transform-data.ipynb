{
 "cells": [
  {
   "cell_type": "code",
   "execution_count": 4,
   "id": "portuguese-train",
   "metadata": {},
   "outputs": [],
   "source": [
    "from PIL import Image, ImageEnhance\n",
    "import os\n",
    "import numpy as np"
   ]
  },
  {
   "cell_type": "code",
   "execution_count": null,
   "id": "opposite-sphere",
   "metadata": {},
   "outputs": [],
   "source": [
    "#creates two directories to store images\n",
    "os.mkdir('original_imgs') #to store original images\n",
    "os.mkdir('transformed_imgs') #to store transformed images"
   ]
  },
  {
   "cell_type": "code",
   "execution_count": 5,
   "id": "complex-default",
   "metadata": {},
   "outputs": [],
   "source": [
    "#transforms the data from factor 0.5 to 1.5 excluding factor=1 (original image)\n",
    "# <1 darkens/blurs the image \n",
    "# >1 brightens/sharpens the image\n",
    "def transformData(image, imagename, destination):\n",
    "    brightEnhancer = ImageEnhance.Brightness(image)\n",
    "    sharpEnhancer = ImageEnhance.Sharpness(image)\n",
    "    contrastEnhancer = ImageEnhance.Contrast(image)\n",
    "    for x in [round(num, 1) for num in np.arange(0.5, 1.6, .1)]:\n",
    "        if x != 1:\n",
    "            factor = x \n",
    "            im_bright = brightEnhancer.enhance(factor)\n",
    "            im_bright.save(destination + '/' + imagename + '-bright:' + str(factor) + '.jpg')\n",
    "            #labels the images as name-bright:factor#.jpg\n",
    "            im_contrast = contrastEnhancer.enhance(factor)\n",
    "            im_contrast.save(destination + '/' + imagename + '-contrast:' + str(factor) + '.jpg')\n",
    "            #labels the images as name-contrast:factor#.jpg\n",
    "    for x in [round(num, 1) for num in np.arange(0, 2.2, .2)]:\n",
    "        if x != 1:\n",
    "            factor = x \n",
    "            im_sharp = sharpEnhancer.enhance(factor)\n",
    "            im_sharp.save(destination + '/' + imagename + '-sharp:' + str(factor) + '.jpg')\n",
    "            #labels the images as name-sharp:factor#.jpg"
   ]
  },
  {
   "cell_type": "code",
   "execution_count": 6,
   "id": "committed-specification",
   "metadata": {},
   "outputs": [],
   "source": [
    "#iterates through all images in the source directory in the form imagename-orig.jpg\n",
    "#transforms all the images from source directory using transformData and saves into destination directory\n",
    "def transformAllImages(directory, destination):\n",
    "    for filename in os.scandir(directory):\n",
    "        orig_name = filename.name.split('-')[0]\n",
    "        if(orig_name != '.ipynb_checkpoints'):\n",
    "            if '.' in orig_name: print('Make sure original ' + orig_name + ' is labeled correctly')\n",
    "            if '.' not in orig_name:\n",
    "                im = Image.open(directory + '/' + orig_name +'-orig.jpg')\n",
    "                rgb_im = im.convert('RGB')\n",
    "                transformData(rgb_im, orig_name, destination)"
   ]
  },
  {
   "cell_type": "code",
   "execution_count": 7,
   "id": "separate-eight",
   "metadata": {},
   "outputs": [],
   "source": [
    "directory = 'original_imgs' #directory containing all original images\n",
    "destination = 'transformed_imgs' #directory containing all transformed images\n",
    "transformAllImages(directory, destination)"
   ]
  }
 ],
 "metadata": {
  "kernelspec": {
   "display_name": "conda_python3",
   "language": "python",
   "name": "conda_python3"
  },
  "language_info": {
   "codemirror_mode": {
    "name": "ipython",
    "version": 3
   },
   "file_extension": ".py",
   "mimetype": "text/x-python",
   "name": "python",
   "nbconvert_exporter": "python",
   "pygments_lexer": "ipython3",
   "version": "3.6.13"
  }
 },
 "nbformat": 4,
 "nbformat_minor": 5
}
