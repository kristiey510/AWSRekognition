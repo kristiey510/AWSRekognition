{
 "cells": [
  {
   "cell_type": "code",
   "execution_count": 21,
   "id": "honest-bones",
   "metadata": {},
   "outputs": [],
   "source": [
    "import boto3\n",
    "client = boto3.client('rekognition')\n",
    "bucket_name = 'orig-imgs-parmigiana'\n",
    "image_name = 'crosswalk1-orig.jpg'\n",
    "\n",
    "# get dictionary of labels \n",
    "response = client.detect_labels(Image={'S3Object':{'Bucket':bucket_name,'Name': image_name}}, MaxLabels=10)"
   ]
  },
  {
   "cell_type": "code",
   "execution_count": 22,
   "id": "damaged-somerset",
   "metadata": {},
   "outputs": [
    {
     "data": {
      "text/plain": [
       "[{'Name': 'Traffic Light',\n",
       "  'Confidence': 99.04641723632812,\n",
       "  'Instances': [{'BoundingBox': {'Width': 0.09640222042798996,\n",
       "     'Height': 0.14606744050979614,\n",
       "     'Left': 0.13755351305007935,\n",
       "     'Top': 0.2755974531173706},\n",
       "    'Confidence': 99.04641723632812}],\n",
       "  'Parents': [{'Name': 'Light'}]},\n",
       " {'Name': 'Light',\n",
       "  'Confidence': 99.04641723632812,\n",
       "  'Instances': [],\n",
       "  'Parents': []},\n",
       " {'Name': 'Text',\n",
       "  'Confidence': 59.401756286621094,\n",
       "  'Instances': [],\n",
       "  'Parents': []},\n",
       " {'Name': 'Wall',\n",
       "  'Confidence': 58.977256774902344,\n",
       "  'Instances': [],\n",
       "  'Parents': []}]"
      ]
     },
     "execution_count": 22,
     "metadata": {},
     "output_type": "execute_result"
    }
   ],
   "source": [
    "#labels for the image selected \n",
    "response['Labels']"
   ]
  },
  {
   "cell_type": "code",
   "execution_count": 4,
   "id": "settled-firmware",
   "metadata": {},
   "outputs": [
    {
     "data": {
      "text/plain": [
       "99.04641723632812"
      ]
     },
     "execution_count": 4,
     "metadata": {},
     "output_type": "execute_result"
    }
   ],
   "source": [
    "#select first label and get confidence level\n",
    "response['Labels'][0]['Confidence']"
   ]
  },
  {
   "cell_type": "code",
   "execution_count": 23,
   "id": "adolescent-disclaimer",
   "metadata": {},
   "outputs": [
    {
     "data": {
      "text/plain": [
       "{'Name': 'Traffic Light', 'Confidence': '99.046'}"
      ]
     },
     "execution_count": 23,
     "metadata": {},
     "output_type": "execute_result"
    }
   ],
   "source": [
    "#form new dict with first label name and confidence level\n",
    "confid_dict = {\"Name\" : response['Labels'][0]['Name'], \"Confidence\": str(round(response['Labels'][0]['Confidence'],3))}\n",
    "confid_dict"
   ]
  },
  {
   "cell_type": "code",
   "execution_count": 19,
   "id": "colored-experience",
   "metadata": {},
   "outputs": [
    {
     "data": {
      "text/html": [
       "<div>\n",
       "<style scoped>\n",
       "    .dataframe tbody tr th:only-of-type {\n",
       "        vertical-align: middle;\n",
       "    }\n",
       "\n",
       "    .dataframe tbody tr th {\n",
       "        vertical-align: top;\n",
       "    }\n",
       "\n",
       "    .dataframe thead th {\n",
       "        text-align: right;\n",
       "    }\n",
       "</style>\n",
       "<table border=\"1\" class=\"dataframe\">\n",
       "  <thead>\n",
       "    <tr style=\"text-align: right;\">\n",
       "      <th></th>\n",
       "      <th>Name</th>\n",
       "      <th>Confidence</th>\n",
       "    </tr>\n",
       "  </thead>\n",
       "  <tbody>\n",
       "    <tr>\n",
       "      <th>0</th>\n",
       "      <td>Traffic Light</td>\n",
       "      <td>99.046</td>\n",
       "    </tr>\n",
       "  </tbody>\n",
       "</table>\n",
       "</div>"
      ],
      "text/plain": [
       "            Name Confidence\n",
       "0  Traffic Light     99.046"
      ]
     },
     "execution_count": 19,
     "metadata": {},
     "output_type": "execute_result"
    }
   ],
   "source": [
    "#form data frame \n",
    "import pandas as pd\n",
    "df = pd.DataFrame(confid_dict, index = [0])\n",
    "df"
   ]
  },
  {
   "cell_type": "code",
   "execution_count": null,
   "id": "heavy-joint",
   "metadata": {},
   "outputs": [],
   "source": []
  }
 ],
 "metadata": {
  "kernelspec": {
   "display_name": "conda_python3",
   "language": "python",
   "name": "conda_python3"
  },
  "language_info": {
   "codemirror_mode": {
    "name": "ipython",
    "version": 3
   },
   "file_extension": ".py",
   "mimetype": "text/x-python",
   "name": "python",
   "nbconvert_exporter": "python",
   "pygments_lexer": "ipython3",
   "version": "3.6.13"
  }
 },
 "nbformat": 4,
 "nbformat_minor": 5
}
