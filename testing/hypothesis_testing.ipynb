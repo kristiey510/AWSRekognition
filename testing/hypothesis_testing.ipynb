{
 "cells": [
  {
   "cell_type": "markdown",
   "metadata": {
    "id": "A0fdT_roYdiP"
   },
   "source": [
    "We first import necessary packages and data set. "
   ]
  },
  {
   "cell_type": "code",
   "execution_count": null,
   "metadata": {
    "id": "ikDKkRRlYOQ-"
   },
   "outputs": [],
   "source": [
    "from scipy.stats import ttest_ind\n",
    "import pandas as pd\n",
    "\n",
    "crosswalk_bright = pd.read_csv ('crosswalk-bright.csv')\n",
    "crosswalk_contrast = pd.read_csv('crosswalk-contrast.csv')\n",
    "crosswalk_sharp = pd.read_csv('crosswalk-sharp.csv')\n",
    "\n",
    "food_bright = pd.read_csv ('food-bright.csv')\n",
    "food_contrast = pd.read_csv('food-contrast.csv')\n",
    "food_sharp = pd.read_csv('food-sharp.csv')"
   ]
  },
  {
   "cell_type": "markdown",
   "metadata": {
    "id": "ItxyMSW3Yj9e"
   },
   "source": [
    "# **Activity 1: Walking -- \"Road\" as the Label**\n"
   ]
  },
  {
   "cell_type": "markdown",
   "metadata": {
    "id": "eTqcKcXIYrQR"
   },
   "source": [
    "## Metric 1: Brightness"
   ]
  },
  {
   "cell_type": "code",
   "execution_count": null,
   "metadata": {
    "id": "wkSlY32XYQeo"
   },
   "outputs": [],
   "source": [
    "# extract photos with brightness 0.5 - 0.9\n",
    "X_cross_bright = crosswalk_bright[crosswalk_bright['Bright'] < 1]\n",
    "#extract photos with brightness 1.0 - 1.5\n",
    "Y_cross_bright = crosswalk_bright[crosswalk_bright['Bright'] >= 1]\n",
    "\n",
    "# t-test\n",
    "stat_cross_bright, p_cross_bright = ttest_ind(X_cross_bright['Confidence'], Y_cross_bright['Confidence'])\n",
    "print('Test statistics, t = %.3f. p-value, p = %.3f' % (stat_cross_bright, p_cross_bright))\n",
    "if p_cross_bright > 0.05:\n",
    "\tprint('Confidence level does not vary depending on brightness.')\n",
    "else:\n",
    "\tprint('Confidence level varies depending on brightness.')"
   ]
  },
  {
   "cell_type": "markdown",
   "metadata": {
    "id": "_NExG8qnY6up"
   },
   "source": [
    "## Metric 2: Contrast"
   ]
  },
  {
   "cell_type": "code",
   "execution_count": null,
   "metadata": {
    "id": "rgOP8T3mYSQB"
   },
   "outputs": [],
   "source": [
    "# extract photos with contrast 0.5 - 0.9\n",
    "X_cross_contrast = crosswalk_contrast[crosswalk_contrast['Contrast'] < 1]\n",
    "# extract photos with contrast 1.0 - 1.5\n",
    "Y_cross_contrast = crosswalk_contrast[crosswalk_contrast['Contrast'] >= 1]\n",
    "\n",
    "# t-test\n",
    "stat_cross_contrast, p_cross_contrast = ttest_ind(X_cross_contrast['Confidence'], Y_cross_contrast['Confidence'])\n",
    "print('Test statistics, t = %.3f. p-value, p = %.3f' % (stat_cross_contrast, p_cross_contrast))\n",
    "if p_cross_contrast > 0.05:\n",
    "\tprint('Confidence level does not vary depending on contrast level.')\n",
    "else:\n",
    "\tprint('Confidence level varies depending on contrast level.')"
   ]
  },
  {
   "cell_type": "markdown",
   "metadata": {
    "id": "GQK51r-3Y_VH"
   },
   "source": [
    "## Metric 3: Sharpness"
   ]
  },
  {
   "cell_type": "code",
   "execution_count": null,
   "metadata": {
    "id": "fcfHpuofYVgp"
   },
   "outputs": [],
   "source": [
    "# extract photos with sharpness 0.0 - 0.8\n",
    "X_cross_sharp = crosswalk_sharp[crosswalk_sharp['Sharp'] < 1]\n",
    "# extract photos with sharpness 1.2 - 2.0\n",
    "Y_cross_sharp = crosswalk_sharp[crosswalk_sharp['Sharp'] >= 1]\n",
    "\n",
    "# t-test\n",
    "stat_cross_sharp, p_cross_sharp = ttest_ind(X_cross_sharp['Confidence'], Y_cross_sharp['Confidence'])\n",
    "print('Test statistics, t = %.3f. p-value, p = %.3f' % (stat_cross_sharp, p_cross_sharp))\n",
    "if p_cross_sharp > 0.05:\n",
    "\tprint('Confidence level does not vary depending on sharpness.')\n",
    "else:\n",
    "\tprint('Confidence level varies depending on sharpness.')"
   ]
  },
  {
   "cell_type": "markdown",
   "metadata": {
    "id": "boYQ_a_XZCnb"
   },
   "source": [
    "#**Activity 2: Eating at a restaurant -- \"Food\" as the Label**"
   ]
  },
  {
   "cell_type": "markdown",
   "metadata": {
    "id": "zlSWdLECZM44"
   },
   "source": [
    "## Metric 1: Brightness"
   ]
  },
  {
   "cell_type": "code",
   "execution_count": null,
   "metadata": {
    "id": "LaoIFkyMYXcX"
   },
   "outputs": [],
   "source": [
    "# extract photos with brightness 0.5 - 0.9\n",
    "X_food_bright = food_bright[food_bright['Bright'] < 1]\n",
    "#extract photos with brightness 1.0 - 1.5\n",
    "Y_food_bright = food_bright[food_bright['Bright'] >= 1]\n",
    "\n",
    "# t-test\n",
    "stat_food_bright, p_food_bright = ttest_ind(X_food_bright['Confidence'], Y_food_bright['Confidence'])\n",
    "print('Test statistics, t = %.3f. p-value, p = %.3f' % (stat_food_bright, p_food_bright))\n",
    "if p_food_bright > 0.05:\n",
    "\tprint('Confidence level does not vary depending on brightness.')\n",
    "else:\n",
    "\tprint('Confidence level varies depending on brightness.')"
   ]
  },
  {
   "cell_type": "markdown",
   "metadata": {
    "id": "LRORGmc9ZOsk"
   },
   "source": [
    "## Metric 2: Contrast"
   ]
  },
  {
   "cell_type": "code",
   "execution_count": null,
   "metadata": {
    "id": "j5JcBNUyYZe1"
   },
   "outputs": [],
   "source": [
    "# extract photos with contrast 0.5 - 0.9\n",
    "X_food_contrast = food_contrast[food_contrast['Contrast'] < 1]\n",
    "# extract photos with contrast 1.0 - 1.5\n",
    "Y_food_contrast = food_contrast[food_contrast['Contrast'] >= 1]\n",
    "\n",
    "# t-test\n",
    "stat_food_contrast, p_food_contrast = ttest_ind(X_food_contrast['Confidence'], Y_food_contrast['Confidence'])\n",
    "print('Test statistics, t = %.3f. p-value, p = %.3f' % (stat_food_contrast, p_food_contrast))\n",
    "if p_food_contrast > 0.05:\n",
    "\tprint('Confidence level does not vary depending on contrast level.')\n",
    "else:\n",
    "\tprint('Confidence level varies depending on contrast level.')"
   ]
  },
  {
   "cell_type": "markdown",
   "metadata": {
    "id": "_WQdmZPxZRk9"
   },
   "source": [
    "## Metric 3: Sharpness"
   ]
  },
  {
   "cell_type": "code",
   "execution_count": null,
   "metadata": {
    "id": "9E4LeyboYaf_"
   },
   "outputs": [],
   "source": [
    "# extract photos with sharpness 0.0 - 0.8\n",
    "X_food_sharp = food_sharp[food_sharp['Sharp'] < 1]\n",
    "# extract photos with sharpness 1.2 - 2.0\n",
    "Y_food_sharp = food_sharp[food_sharp['Sharp'] >= 1]\n",
    "\n",
    "# t-test\n",
    "stat_food_sharp, p_food_sharp = ttest_ind(X_food_sharp['Confidence'], Y_food_sharp['Confidence'])\n",
    "print('Test statistics, t = %.3f. p-value, p = %.3f' % (stat_food_sharp, p_food_sharp))\n",
    "if p_food_sharp > 0.05:\n",
    "\tprint('Confidence level does not vary depending on sharpness.')\n",
    "else:\n",
    "\tprint('Confidence level varies depending on sharpness.')"
   ]
  }
 ],
 "metadata": {
  "colab": {
   "name": "hypothesis_testing.ipynb",
   "provenance": []
  },
  "kernelspec": {
   "display_name": "conda_amazonei_mxnet_p27",
   "language": "python",
   "name": "conda_amazonei_mxnet_p27"
  },
  "language_info": {
   "codemirror_mode": {
    "name": "ipython",
    "version": 2
   },
   "file_extension": ".py",
   "mimetype": "text/x-python",
   "name": "python",
   "nbconvert_exporter": "python",
   "pygments_lexer": "ipython2",
   "version": "2.7.16"
  }
 },
 "nbformat": 4,
 "nbformat_minor": 4
}
