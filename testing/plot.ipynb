{
 "cells": [
  {
   "cell_type": "markdown",
   "metadata": {
    "id": "NqD0AeYajOlQ"
   },
   "source": [
    "# Brightness vs. Confidence Level\n"
   ]
  },
  {
   "cell_type": "code",
   "execution_count": null,
   "metadata": {
    "id": "DNhaQTlIjEH0"
   },
   "outputs": [],
   "source": [
    "bright = pd.concat([crosswalk_bright, food_bright], axis=0)\n",
    "print(bright)\n",
    "\n",
    "plt.plot(bright.loc[:,'Bright'], bright.loc[:,'Confidence'],'o',alpha=0.5)\n",
    "plt.xlabel('Brightness')\n",
    "plt.ylabel('Confidence level')\n",
    "plt.title('Brightness vs. Confidence level')"
   ]
  },
  {
   "cell_type": "markdown",
   "metadata": {
    "id": "nYYqT7UFjWWA"
   },
   "source": [
    "# Contrast vs. Confidence Level\n"
   ]
  },
  {
   "cell_type": "code",
   "execution_count": null,
   "metadata": {
    "id": "8PuHSXa9jK8K"
   },
   "outputs": [],
   "source": [
    "contrast = pd.concat([crosswalk_contrast, food_contrast], axis=0)\n",
    "print(contrast)\n",
    "\n",
    "plt.plot(contrast.loc[:,'Contrast'], contrast.loc[:,'Confidence'],'o',alpha=0.5)\n",
    "plt.xlabel('Contrast')\n",
    "plt.ylabel('Confidence level')\n",
    "plt.title('Contrast vs. Confidence level')"
   ]
  },
  {
   "cell_type": "markdown",
   "metadata": {
    "id": "plOey22FjYAD"
   },
   "source": [
    "# Sharpness vs. Confidence Level\n"
   ]
  },
  {
   "cell_type": "code",
   "execution_count": null,
   "metadata": {
    "id": "ExaK5m_ZjNyj"
   },
   "outputs": [],
   "source": [
    "sharp = pd.concat([crosswalk_sharp, food_sharp], axis=0)\n",
    "print(sharp)\n",
    "\n",
    "plt.plot(sharp.loc[:,'Sharp'], sharp.loc[:,'Confidence'],'o',alpha=0.5)\n",
    "plt.xlabel('Sharpness')\n",
    "plt.ylabel('Confidence level')\n",
    "plt.title('Sharpness vs. Confidence level')"
   ]
  }
 ],
 "metadata": {
  "colab": {
   "name": "plot.ipynb",
   "provenance": []
  },
  "kernelspec": {
   "display_name": "conda_amazonei_mxnet_p27",
   "language": "python",
   "name": "conda_amazonei_mxnet_p27"
  },
  "language_info": {
   "codemirror_mode": {
    "name": "ipython",
    "version": 2
   },
   "file_extension": ".py",
   "mimetype": "text/x-python",
   "name": "python",
   "nbconvert_exporter": "python",
   "pygments_lexer": "ipython2",
   "version": "2.7.16"
  }
 },
 "nbformat": 4,
 "nbformat_minor": 4
}
