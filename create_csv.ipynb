{
 "cells": [
  {
   "cell_type": "code",
   "execution_count": 16,
   "id": "proper-seeking",
   "metadata": {},
   "outputs": [],
   "source": [
    "import boto3\n",
    "import pandas as pd\n",
    "client = boto3.client('rekognition')\n",
    "s3_resource = boto3.resource('s3')\n",
    "my_bucket_transformed = s3_resource.Bucket('transformed-imgs-parmigiana')"
   ]
  },
  {
   "cell_type": "code",
   "execution_count": 17,
   "id": "golden-hughes",
   "metadata": {},
   "outputs": [],
   "source": [
    "def create_dict(category, image_type, target): \n",
    "    summaries_transformed = my_bucket_transformed.objects.filter(Prefix=image_type) \n",
    "    #contains images under certain type\n",
    "    confid_dict = {\"Image\" : [], category :[], \"Label\" : [], \"Confidence\" :[]}\n",
    "    for image in summaries_transformed:\n",
    "        name = image.key.split('-')[1].split('.j')[0]\n",
    "        if name.split(':')[0] == category.lower():\n",
    "            ind = -1\n",
    "            response = client.detect_labels(Image={'S3Object':{'Bucket':\"transformed-imgs-parmigiana\" ,'Name':image.key}}, MaxLabels=10)\n",
    "            confidence = response['Labels'][0]['Confidence']\n",
    "            for obj in response['Labels']: \n",
    "                if(obj['Name'] == target): \n",
    "                    ind = response['Labels'].index(obj)\n",
    "                    break\n",
    "            if ind != -1:\n",
    "                confid_dict[\"Image\"].append(image.key.split('-')[0])\n",
    "                confid_dict[category].append(name.split(':')[1])\n",
    "                confid_dict[\"Label\"].append(response['Labels'][ind]['Name'])\n",
    "                confid_dict[\"Confidence\"].append(round(confidence,3))\n",
    "    return confid_dict"
   ]
  },
  {
   "cell_type": "code",
   "execution_count": 18,
   "id": "bacterial-annex",
   "metadata": {},
   "outputs": [],
   "source": [
    "def create_df(confid_dict):\n",
    "    df = pd.DataFrame(confid_dict)\n",
    "    return df"
   ]
  },
  {
   "cell_type": "code",
   "execution_count": 34,
   "id": "immune-extension",
   "metadata": {},
   "outputs": [],
   "source": [
    "#iterate through all categories and variable changes (brightness/sharpness/contrast) and known targets\n",
    "categories = {'crosswalk': 'Road', 'food' : 'Food'} #categories and targets\n",
    "variables = {'Bright', 'Sharp', 'Contrast'}\n",
    "for i in categories.keys(): \n",
    "    for j in variables: \n",
    "        new_dict = create_dict(j, i, categories.get(i))\n",
    "        new_df = create_df(new_dict)\n",
    "        #remove imgs 1, 2, 5, 6, 8 from crosswalk\n",
    "        if i == \"crosswalk\" and j != 'Sharp': \n",
    "            #values to be removed due to inconsistencies \n",
    "            #unequal distribution for data analysis in lower and upper levels\n",
    "            new_df = new_df.drop(new_dict['Image'].index('crosswalk8')) #removed\n",
    "            if j == 'Contrast': \n",
    "                new_df = new_df.drop(new_dict['Image'].index('crosswalk1')) #removed\n",
    "        #remove imgs 1, 6 from food\n",
    "        if i == \"food\": \n",
    "            if j == 'Bright': \n",
    "                new_df = new_df.drop([0,1,52,53])\n",
    "            if j == 'Contrast':\n",
    "                new_df = new_df.drop([0,1,2])\n",
    "#             remove from df pictures 1 and 6 due to inconsistencies\n",
    "#             unequal distribution for data analysis in lower and upper levels\n",
    "        new_df = new_df.set_index(\"Image\").sort_values(by=['Image', j])\n",
    "        new_df.to_csv(i + '-' + j.lower() + '.csv')"
   ]
  }
 ],
 "metadata": {
  "kernelspec": {
   "display_name": "conda_python3",
   "language": "python",
   "name": "conda_python3"
  },
  "language_info": {
   "codemirror_mode": {
    "name": "ipython",
    "version": 3
   },
   "file_extension": ".py",
   "mimetype": "text/x-python",
   "name": "python",
   "nbconvert_exporter": "python",
   "pygments_lexer": "ipython3",
   "version": "3.6.13"
  }
 },
 "nbformat": 4,
 "nbformat_minor": 5
}
