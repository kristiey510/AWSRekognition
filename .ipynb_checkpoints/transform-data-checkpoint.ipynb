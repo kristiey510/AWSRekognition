{
 "cells": [
  {
   "cell_type": "code",
   "execution_count": 2,
   "id": "fabulous-august",
   "metadata": {},
   "outputs": [
    {
     "ename": "FileExistsError",
     "evalue": "[Errno 17] File exists: 'original_imgs'",
     "output_type": "error",
     "traceback": [
      "\u001b[0;31m---------------------------------------------------------------------------\u001b[0m",
      "\u001b[0;31mFileExistsError\u001b[0m                           Traceback (most recent call last)",
      "\u001b[0;32m<ipython-input-2-25c0423ca0f7>\u001b[0m in \u001b[0;36m<module>\u001b[0;34m\u001b[0m\n\u001b[1;32m      4\u001b[0m \u001b[0;34m\u001b[0m\u001b[0m\n\u001b[1;32m      5\u001b[0m \u001b[0;31m#creates two directories to store images\u001b[0m\u001b[0;34m\u001b[0m\u001b[0;34m\u001b[0m\u001b[0;34m\u001b[0m\u001b[0m\n\u001b[0;32m----> 6\u001b[0;31m \u001b[0mos\u001b[0m\u001b[0;34m.\u001b[0m\u001b[0mmkdir\u001b[0m\u001b[0;34m(\u001b[0m\u001b[0;34m'original_imgs'\u001b[0m\u001b[0;34m)\u001b[0m \u001b[0;31m#to store original images\u001b[0m\u001b[0;34m\u001b[0m\u001b[0;34m\u001b[0m\u001b[0m\n\u001b[0m\u001b[1;32m      7\u001b[0m \u001b[0mos\u001b[0m\u001b[0;34m.\u001b[0m\u001b[0mmkdir\u001b[0m\u001b[0;34m(\u001b[0m\u001b[0;34m'transformed_imgs'\u001b[0m\u001b[0;34m)\u001b[0m \u001b[0;31m#to store transformed images\u001b[0m\u001b[0;34m\u001b[0m\u001b[0;34m\u001b[0m\u001b[0m\n",
      "\u001b[0;31mFileExistsError\u001b[0m: [Errno 17] File exists: 'original_imgs'"
     ]
    }
   ],
   "source": [
    "from PIL import Image, ImageEnhance\n",
    "import os\n",
    "import numpy as np\n",
    "\n",
    "#creates two directories to store images\n",
    "os.mkdir('original_imgs') #to store original images\n",
    "os.mkdir('transformed_imgs') #to store transformed images"
   ]
  },
  {
   "cell_type": "code",
   "execution_count": 37,
   "id": "joint-porter",
   "metadata": {},
   "outputs": [],
   "source": [
    "#transforms the data from factor 0.5 to 1.5 excluding factor=1 (original image)\n",
    "# <1 darkens/blurs the image \n",
    "# >1 brightens/sharpens the image\n",
    "def transformData(image, imagename, destination):\n",
    "    brightEnhancer = ImageEnhance.Brightness(image)\n",
    "    sharpEnhancer = ImageEnhance.Sharpness(image)\n",
    "    contrastEnhancer = ImageEnhance.Contrast(image)\n",
    "    for x in [round(num, 1) for num in np.arange(0.5, 1.6, .1)]:\n",
    "        if x != 1:\n",
    "            factor = x \n",
    "            im_bright = brightEnhancer.enhance(factor)\n",
    "            im_bright.save(destination + '/' + imagename + '-bright:' + str(factor) + '.jpg')\n",
    "            #labels the images as name-bright:factor#.jpg\n",
    "            im_contrast = sharpEnhancer.enhance(factor)\n",
    "            im_contrast.save(destination + '/' + imagename + '-contrast:' + str(factor) + '.jpg')\n",
    "            #labels the images as name-contrast:factor#.jpg\n",
    "    for x in [round(num, 1) for num in np.arange(0, 2.2, .2)]:\n",
    "        if x != 1:\n",
    "            factor = x \n",
    "            im_sharp = sharpEnhancer.enhance(factor)\n",
    "            im_sharp.save(destination + '/' + imagename + '-sharp:' + str(factor) + '.jpg')\n",
    "            #labels the images as name-sharp:factor#.jpg"
   ]
  },
  {
   "cell_type": "code",
   "execution_count": 35,
   "id": "bacterial-monaco",
   "metadata": {},
   "outputs": [],
   "source": [
    "#iterates through all images in the source directory in the form imagename-orig.jpg\n",
    "#transforms all the images from source directory using transformData and saves into destination directory\n",
    "def transformAllImages(directory, destination):\n",
    "    for filename in os.scandir(directory):\n",
    "        orig_name = filename.name.split('-')[0]\n",
    "        if(orig_name != '.ipynb_checkpoints'):\n",
    "            if '.' in orig_name: print('Make sure original ' + orig_name + ' is labeled correctly')\n",
    "            if '.' not in orig_name:\n",
    "                im = Image.open(directory + '/' + orig_name +'-orig.jpg')\n",
    "                transformData(im, orig_name, destination)"
   ]
  },
  {
   "cell_type": "code",
   "execution_count": 40,
   "id": "gross-oliver",
   "metadata": {},
   "outputs": [],
   "source": [
    "directory = 'original_imgs' #directory containing all original images\n",
    "destination = 'transformed_imgs' #directory containing all transformed images\n",
    "transformAllImages(directory, destination)"
   ]
  }
 ],
 "metadata": {
  "kernelspec": {
   "display_name": "conda_python3",
   "language": "python",
   "name": "conda_python3"
  },
  "language_info": {
   "codemirror_mode": {
    "name": "ipython",
    "version": 3
   },
   "file_extension": ".py",
   "mimetype": "text/x-python",
   "name": "python",
   "nbconvert_exporter": "python",
   "pygments_lexer": "ipython3",
   "version": "3.6.13"
  }
 },
 "nbformat": 4,
 "nbformat_minor": 5
}
